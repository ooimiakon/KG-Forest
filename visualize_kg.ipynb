{
 "cells": [
  {
   "cell_type": "markdown",
   "metadata": {},
   "source": [
    "选择 BEIR 语料 "
   ]
  },
  {
   "cell_type": "code",
   "execution_count": 2,
   "metadata": {},
   "outputs": [
    {
     "name": "stderr",
     "output_type": "stream",
     "text": [
      "  0%|          | 0/3633 [00:00<?, ?it/s]"
     ]
    },
    {
     "name": "stderr",
     "output_type": "stream",
     "text": [
      "100%|██████████| 3633/3633 [00:00<00:00, 72313.18it/s]\n"
     ]
    }
   ],
   "source": [
    "import os, json, re, uuid, logging, numpy as np\n",
    "import pathlib\n",
    "from beir import util, LoggingHandler\n",
    "from beir.datasets.data_loader import GenericDataLoader\n",
    "\n",
    "DATASET = \"nfcorpus\"          # 也可换成 ms_marco, trec-covid 等\n",
    "url = f\"https://public.ukp.informatik.tu-darmstadt.de/thakur/BEIR/datasets/{DATASET}.zip\"\n",
    "out_dir = os.path.join(os.getcwd(), \"datasets\")\n",
    "DATA_PATH = util.download_and_unzip(url, out_dir)\n",
    "corpus, *_ = GenericDataLoader(data_folder=DATA_PATH).load(split=\"train\")"
   ]
  },
  {
   "cell_type": "markdown",
   "metadata": {},
   "source": [
    "文本清洗 & 分块"
   ]
  },
  {
   "cell_type": "code",
   "execution_count": 20,
   "metadata": {},
   "outputs": [],
   "source": [
    "import re\n",
    "import logging\n",
    "\n",
    "# 预编译正则，加速\n",
    "punct_re = re.compile(r'[\\.!?]')\n",
    "\n",
    "def clean(text: str) -> str:\n",
    "    text = re.sub(r\"<[^>]+>\", \" \", text)\n",
    "    text = re.sub(r\"\\s+\", \" \", text)\n",
    "    return text.strip()\n",
    "\n",
    "def split_into_chunks(text: str, max_chars: int = 600):\n",
    "    \"\"\"\n",
    "    按 max_chars 字符切片，然后向后延展到下一个句号/问号/感叹号，确保不截断句子。\n",
    "    返回列表，每项为 (chunk_text, start_index, end_index)。\n",
    "    \"\"\"\n",
    "    text = text.strip()\n",
    "    spans = []\n",
    "    i, L = 0, len(text)\n",
    "    while i < L:\n",
    "        end = min(L, i + max_chars)\n",
    "        m = punct_re.search(text, end)\n",
    "        if m:\n",
    "            end = m.end()\n",
    "        chunk = text[i:end].strip()\n",
    "        spans.append((chunk, i, end))\n",
    "        i = end\n",
    "    logging.info(f\"Created {len(spans)} chunks from text (max_chars={max_chars})\")\n",
    "    return spans\n",
    "\n",
    "# Take only first 10 docs\n",
    "doc_items = list(corpus.items())[:3]\n",
    "docs = {doc_id: clean(record[\"text\"]) for doc_id, record in doc_items}\n",
    "#docs = {doc_id: clean(record[\"text\"]) for doc_id, record in corpus.items()}"
   ]
  },
  {
   "cell_type": "markdown",
   "metadata": {},
   "source": [
    "Prompt driven Relation Extraction"
   ]
  },
  {
   "cell_type": "code",
   "execution_count": 4,
   "metadata": {},
   "outputs": [],
   "source": [
    "import os\n",
    "import json\n",
    "from typing import List, Dict, Any\n",
    "import openai\n",
    "import spacy\n",
    "\n",
    "# 1. 初始化 DeepSeek/OpenAI 客户端\n",
    "client = openai.OpenAI(\n",
    "    api_key=\"sk-a1b9aa762afb4c32bfc609449c4462ac\",\n",
    "    base_url=\"https://api.deepseek.com/v1\"\n",
    ")\n",
    "\n",
    "# 2. 定义工具调用 schema：extract_entities_relations\n",
    "tools = [\n",
    "    {\n",
    "        \"type\": \"function\",\n",
    "        \"function\": {\n",
    "            \"name\": \"extract_entities_relations\",\n",
    "            \"description\": \"Extract entities and relations from a text chunk, with self-audit in one pass\",\n",
    "            \"parameters\": {\n",
    "                \"type\": \"object\",\n",
    "                \"properties\": {\n",
    "                    \"entities\": {\n",
    "                        \"type\": \"array\",\n",
    "                        \"items\": {\n",
    "                            \"type\": \"object\",\n",
    "                            \"properties\": {\n",
    "                                \"entity_name\": {\"type\": \"string\"},\n",
    "                                \"entity_type\": {\"type\": \"string\"},\n",
    "                                \"entity_description\": {\"type\": \"string\"},\n",
    "                            },\n",
    "                            \"required\": [\"entity_name\", \"entity_type\", \"entity_description\"]\n",
    "                        }\n",
    "                    },\n",
    "                    \"relations\": {\n",
    "                        \"type\": \"array\",\n",
    "                        \"items\": {\n",
    "                            \"type\": \"object\",\n",
    "                            \"properties\": {\n",
    "                                \"source_entity\": {\"type\": \"string\"},\n",
    "                                \"relation\": {\"type\": \"string\"},\n",
    "                                \"target_entity\": {\"type\": \"string\"},\n",
    "                                \"relation_description\": {\"type\": \"string\"},\n",
    "                            },\n",
    "                            \"required\": [\"source_entity\", \"relation\", \"target_entity\", \"relation_description\"]\n",
    "                        }\n",
    "                    }\n",
    "                },\n",
    "                \"required\": [\"entities\", \"relations\"]\n",
    "            }\n",
    "        }\n",
    "    }\n",
    "]\n",
    "\n",
    "system_prompt = {\n",
    "    \"role\": \"system\",\n",
    "    \"content\": (\n",
    "        \"You are an information-extraction assistant. In one pass, extract:\\n\"\n",
    "        \" 1) All entities (name,type,description);\\n\"\n",
    "        \" 2) All relations (source,relation,target,description);\\n\"\n",
    "        \"Then self-audit and add any you missed. Return JSON matching the tool schema.\"\n",
    "    )\n",
    "}\n",
    "\n",
    "# 3. 核心示例和简短系统指令\n",
    "few_shot = [\n",
    "    {\n",
    "        \"role\": \"system\",\n",
    "        \"content\": (\n",
    "            \"You are an information extraction assistant.  \\n\"\n",
    "            \"Perform these steps in one pass:\\n\"\n",
    "            \"1) Extract entities with {entity_name, entity_type, entity_description};\\n\"\n",
    "            \"2) Extract relations as triples {source_entity, relation, target_entity, relation_description};\\n\"\n",
    "            \"3) Self-audit: review your own output and add any missing items.\\n\"\n",
    "            \"Return exactly a JSON matching the tool schema.\"\n",
    "        )\n",
    "    },\n",
    "    {\n",
    "        \"role\": \"user\",\n",
    "        \"content\": (\n",
    "            \"Chunk:\\n\"\n",
    "            \"\\\"Alice joined Acme Corp in 2021 and moved to London for work.\\\"\"\n",
    "        )\n",
    "    },\n",
    "    {\n",
    "        \"role\": \"assistant\",\n",
    "        \"content\": \"I will extract entities and relations from this text.\",\n",
    "        \"tool_calls\": [\n",
    "            {\n",
    "                \"id\": \"call_123\",\n",
    "                \"type\": \"function\",\n",
    "                \"function\": {\n",
    "                    \"name\": \"extract_entities_relations\",\n",
    "                    \"arguments\": json.dumps({\n",
    "                        \"entities\": [\n",
    "                            {\"entity_name\": \"Alice\", \"entity_type\": \"Person\", \"entity_description\": \"An individual who joined a company in 2021\"},\n",
    "                            {\"entity_name\": \"Acme Corp\", \"entity_type\": \"Organization\", \"entity_description\": \"Company Alice joined in 2021\"},\n",
    "                            {\"entity_name\": \"London\", \"entity_type\": \"Location\", \"entity_description\": \"City Alice moved to for work\"}\n",
    "                        ],\n",
    "                        \"relations\": [\n",
    "                            {\"source_entity\": \"Alice\", \"relation\": \"employment\", \"target_entity\": \"Acme Corp\", \"relation_description\": \"Alice joined Acme Corp in 2021\"},\n",
    "                            {\"source_entity\": \"Alice\", \"relation\": \"relocation\", \"target_entity\": \"London\", \"relation_description\": \"Alice moved to London for work\"}\n",
    "                        ]\n",
    "                    })\n",
    "                }\n",
    "            }\n",
    "        ]\n",
    "    },\n",
    "    {\n",
    "        \"role\": \"tool\",\n",
    "        \"tool_call_id\": \"call_123\",\n",
    "        \"content\": \"Successfully extracted entities and relations.\"\n",
    "    }\n",
    "]\n",
    "\n",
    "def extract_chunk(chunk: str) -> Dict[str, Any]:\n",
    "    try:\n",
    "        resp = client.chat.completions.create(\n",
    "            model=\"deepseek-chat\",\n",
    "            messages=few_shot + [{\"role\":\"user\",\"content\":f\"Chunk:\\n\\\"{chunk}\\\"\"}],\n",
    "            tools=tools,\n",
    "            tool_choice={\"type\": \"function\", \"function\": {\"name\": \"extract_entities_relations\"}},\n",
    "            temperature=0.0\n",
    "        )\n",
    "        logging.info(f\"Response content: {resp}\")\n",
    "        # 处理工具调用响应\n",
    "        if resp.choices[0].message.tool_calls:\n",
    "            tool_call = resp.choices[0].message.tool_calls[0]\n",
    "            return json.loads(tool_call.function.arguments)\n",
    "        else:\n",
    "            logging.error(\"No tool calls in response\")\n",
    "            raise Exception(\"No tool calls in response\")\n",
    "    except Exception as e:\n",
    "        logging.error(f\"Error processing chunk: {str(e)}\")\n",
    "        raise"
   ]
  },
  {
   "cell_type": "markdown",
   "metadata": {},
   "source": [
    "批量读取"
   ]
  },
  {
   "cell_type": "code",
   "execution_count": 5,
   "metadata": {},
   "outputs": [],
   "source": [
    "\n",
    "logging.basicConfig(format='%(asctime)s - %(message)s',\n",
    "                   datefmt='%Y-%m-%d %H:%M:%S',\n",
    "                   level=logging.INFO,\n",
    "                   handlers=[LoggingHandler()])"
   ]
  },
  {
   "cell_type": "code",
   "execution_count": 22,
   "metadata": {},
   "outputs": [
    {
     "name": "stdout",
     "output_type": "stream",
     "text": [
      "2025-04-26 21:36:26 - Use pytorch device_name: mps\n",
      "2025-04-26 21:36:26 - Load pretrained SentenceTransformer: sentence-transformers/all-MiniLM-L6-v2\n",
      "2025-04-26 21:36:26 - Created 3 chunks from text (max_chars=600)\n",
      "2025-04-26 21:36:26 - Created 3 chunks from text (max_chars=600)\n",
      "2025-04-26 21:36:26 - Created 2 chunks from text (max_chars=600)\n",
      "2025-04-26 21:36:27 - HTTP Request: POST https://api.deepseek.com/v1/chat/completions \"HTTP/1.1 200 OK\"\n",
      "2025-04-26 21:36:27 - HTTP Request: POST https://api.deepseek.com/v1/chat/completions \"HTTP/1.1 200 OK\"\n",
      "2025-04-26 21:36:27 - HTTP Request: POST https://api.deepseek.com/v1/chat/completions \"HTTP/1.1 200 OK\"\n",
      "2025-04-26 21:36:27 - HTTP Request: POST https://api.deepseek.com/v1/chat/completions \"HTTP/1.1 200 OK\"\n",
      "2025-04-26 21:36:27 - HTTP Request: POST https://api.deepseek.com/v1/chat/completions \"HTTP/1.1 200 OK\"\n",
      "2025-04-26 21:36:27 - HTTP Request: POST https://api.deepseek.com/v1/chat/completions \"HTTP/1.1 200 OK\"\n",
      "2025-04-26 21:36:28 - HTTP Request: POST https://api.deepseek.com/v1/chat/completions \"HTTP/1.1 200 OK\"\n",
      "2025-04-26 21:36:28 - HTTP Request: POST https://api.deepseek.com/v1/chat/completions \"HTTP/1.1 200 OK\"\n",
      "2025-04-26 21:36:52 - Response content: ChatCompletion(id='550bd496-fc16-4f4a-948f-54be2fbba8b3', choices=[Choice(finish_reason='tool_calls', index=0, logprobs=None, message=ChatCompletionMessage(content='', refusal=None, role='assistant', annotations=None, audio=None, function_call=None, tool_calls=[ChatCompletionMessageToolCall(id='call_0_efa52562-219d-4172-960e-2cf8791e7a60', function=Function(arguments='{\"entities\":[{\"entity_name\":\"statins\",\"entity_type\":\"Drug\",\"entity_description\":\"An established drug group used in the prevention of cardiovascular mortality and potentially delaying or preventing breast cancer recurrence\"},{\"entity_name\":\"breast cancer\",\"entity_type\":\"Disease\",\"entity_description\":\"A type of cancer being studied for recurrence and mortality in relation to statin use\"},{\"entity_name\":\"cardiovascular mortality\",\"entity_type\":\"Medical Condition\",\"entity_description\":\"A condition statins are established to prevent\"},{\"entity_name\":\"study cohort\",\"entity_type\":\"Research Group\",\"entity_description\":\"A group of newly diagnosed breast cancer patients in Finland during 1995–2003\"},{\"entity_name\":\"Finland\",\"entity_type\":\"Location\",\"entity_description\":\"Country where the study cohort was identified\"},{\"entity_name\":\"Finnish Cancer Registry\",\"entity_type\":\"Organization\",\"entity_description\":\"Registry from which breast cancer patients were identified\"},{\"entity_name\":\"national prescription database\",\"entity_type\":\"Database\",\"entity_description\":\"Source of information on statin use before and after breast cancer diagnosis\"}],\"relations\":[{\"source_entity\":\"statins\",\"relation\":\"prevents\",\"target_entity\":\"cardiovascular mortality\",\"relation_description\":\"Statins are established to prevent cardiovascular mortality\"},{\"source_entity\":\"statins\",\"relation\":\"may delay or prevent\",\"target_entity\":\"breast cancer recurrence\",\"relation_description\":\"Recent studies suggest statins could delay or prevent breast cancer recurrence\"},{\"source_entity\":\"study cohort\",\"relation\":\"includes\",\"target_entity\":\"breast cancer patients\",\"relation_description\":\"The study cohort included all newly diagnosed breast cancer patients in Finland during 1995–2003\"},{\"source_entity\":\"Finnish Cancer Registry\",\"relation\":\"identified\",\"target_entity\":\"study cohort\",\"relation_description\":\"The study cohort was identified from the Finnish Cancer Registry\"},{\"source_entity\":\"national prescription database\",\"relation\":\"provided information on\",\"target_entity\":\"statin use\",\"relation_description\":\"Information on statin use before and after diagnosis was obtained from a national prescription database\"}]}', name='extract_entities_relations'), type='function', index=0)]))], created=1745721387, model='deepseek-chat', object='chat.completion', service_tier=None, system_fingerprint='fp_8802369eaa_prod0425fp8', usage=CompletionUsage(completion_tokens=427, prompt_tokens=749, total_tokens=1176, completion_tokens_details=None, prompt_tokens_details=PromptTokensDetails(audio_tokens=None, cached_tokens=704), prompt_cache_hit_tokens=704, prompt_cache_miss_tokens=45))\n"
     ]
    },
    {
     "name": "stderr",
     "output_type": "stream",
     "text": [
      "Batches: 100%|██████████| 1/1 [00:00<00:00,  7.26it/s]\n"
     ]
    },
    {
     "name": "stdout",
     "output_type": "stream",
     "text": [
      "2025-04-26 21:37:25 - Response content: ChatCompletion(id='bce2f6bc-cf4d-46c4-84e4-c2c5b8b8c3dc', choices=[Choice(finish_reason='tool_calls', index=0, logprobs=None, message=ChatCompletionMessage(content='', refusal=None, role='assistant', annotations=None, audio=None, function_call=None, tool_calls=[ChatCompletionMessageToolCall(id='call_0_b80278b8-9f40-475a-8ac5-075cf09470e2', function=Function(arguments='{\"entities\":[{\"entity_name\":\"statins\",\"entity_type\":\"Drug\",\"entity_description\":\"Medications studied for their effects on breast cancer\"},{\"entity_name\":\"simvastatin\",\"entity_type\":\"Drug\",\"entity_description\":\"A specific statin studied for preventing growth in breast cancer cell lines and animal models\"},{\"entity_name\":\"breast cancer\",\"entity_type\":\"Disease\",\"entity_description\":\"The disease under investigation in the study\"},{\"entity_name\":\"English cancer registries\",\"entity_type\":\"Organization\",\"entity_description\":\"Source of data for the cohort study\"},{\"entity_name\":\"National Cancer Data Repository\",\"entity_type\":\"Organization\",\"entity_description\":\"Repository from which the cohort was identified\"},{\"entity_name\":\"UK Clinical Practice Research Datalink\",\"entity_type\":\"Organization\",\"entity_description\":\"Source of prescription records for the study\"},{\"entity_name\":\"Office of National Statistics\",\"entity_type\":\"Organization\",\"entity_description\":\"Source of mortality data for the study\"},{\"entity_name\":\"17,880 breast cancer patients\",\"entity_type\":\"Population\",\"entity_description\":\"Cohort of patients studied\"},{\"entity_name\":\"3694 deaths\",\"entity_type\":\"Event\",\"entity_description\":\"Total deaths identified in the study\"},{\"entity_name\":\"1469 deaths attributable to breast cancer\",\"entity_type\":\"Event\",\"entity_description\":\"Deaths specifically due to breast cancer in the study\"}],\"relations\":[{\"source_entity\":\"statins\",\"relation\":\"prevents\",\"target_entity\":\"breast cancer\",\"relation_description\":\"Preclinical studies showed statins can prevent growth in breast cancer cell lines and animal models\"},{\"source_entity\":\"simvastatin\",\"relation\":\"is a type of\",\"target_entity\":\"statins\",\"relation_description\":\"Simvastatin is a specific statin studied\"},{\"source_entity\":\"English cancer registries\",\"relation\":\"provides data to\",\"target_entity\":\"National Cancer Data Repository\",\"relation_description\":\"The cohort was identified from English cancer registries via the National Cancer Data Repository\"},{\"source_entity\":\"UK Clinical Practice Research Datalink\",\"relation\":\"provides data to\",\"target_entity\":\"study\",\"relation_description\":\"Provided prescription records for the study\"},{\"source_entity\":\"Office of National Statistics\",\"relation\":\"provides data to\",\"target_entity\":\"study\",\"relation_description\":\"Provided mortality data for the study\"},{\"source_entity\":\"17,880 breast cancer patients\",\"relation\":\"participates in\",\"target_entity\":\"study\",\"relation_description\":\"The cohort of patients studied\"},{\"source_entity\":\"3694 deaths\",\"relation\":\"includes\",\"target_entity\":\"1469 deaths attributable to breast cancer\",\"relation_description\":\"Total deaths included deaths specifically due to breast cancer\"}]}', name='extract_entities_relations'), type='function', index=0)]))], created=1745721387, model='deepseek-chat', object='chat.completion', service_tier=None, system_fingerprint='fp_8802369eaa_prod0425fp8', usage=CompletionUsage(completion_tokens=553, prompt_tokens=791, total_tokens=1344, completion_tokens_details=None, prompt_tokens_details=PromptTokensDetails(audio_tokens=None, cached_tokens=768), prompt_cache_hit_tokens=768, prompt_cache_miss_tokens=23))\n"
     ]
    },
    {
     "name": "stderr",
     "output_type": "stream",
     "text": [
      "Batches: 100%|██████████| 1/1 [00:00<00:00,  3.74it/s]\n"
     ]
    },
    {
     "name": "stdout",
     "output_type": "stream",
     "text": [
      "2025-04-26 21:37:51 - Response content: ChatCompletion(id='3164543c-dcad-447e-a40a-2a903da6f121', choices=[Choice(finish_reason='tool_calls', index=0, logprobs=None, message=ChatCompletionMessage(content='', refusal=None, role='assistant', annotations=None, audio=None, function_call=None, tool_calls=[ChatCompletionMessageToolCall(id='call_0_17b1ba6c-9db3-403b-99eb-26c28bcfba85', function=Function(arguments='{\"entities\":[{\"entity_name\":\"38\",\"entity_type\":\"Statistic\",\"entity_description\":\"A numerical value indicating a statistical result\"},{\"entity_name\":\"P < 0.01\",\"entity_type\":\"Statistical Significance\",\"entity_description\":\"Indicates a statistically significant result with a p-value less than 0.01\"},{\"entity_name\":\"processed fish products\",\"entity_type\":\"Food Product\",\"entity_description\":\"A category of food items derived from fish\"},{\"entity_name\":\"beta = 0.59\",\"entity_type\":\"Statistic\",\"entity_description\":\"A regression coefficient indicating the strength of association\"},{\"entity_name\":\"food pattern of cooking oil and processed meat products\",\"entity_type\":\"Dietary Pattern\",\"entity_description\":\"A dietary pattern identified through factor analysis\"},{\"entity_name\":\"OP concentration in human milk\",\"entity_type\":\"Biological Measurement\",\"entity_description\":\"Measurement of organophosphate concentration in human milk\"},{\"entity_name\":\"NP/OP exposure\",\"entity_type\":\"Health Risk\",\"entity_description\":\"Exposure to nonylphenol and organophosphates\"},{\"entity_name\":\"nursing mothers\",\"entity_type\":\"Population Group\",\"entity_description\":\"Mothers who are breastfeeding their infants\"},{\"entity_name\":\"infants\",\"entity_type\":\"Population Group\",\"entity_description\":\"Babies who are being breastfed\"},{\"entity_name\":\"2010 Elsevier Ltd.\",\"entity_type\":\"Organization\",\"entity_description\":\"Publisher of the research\"}],\"relations\":[{\"source_entity\":\"processed fish products\",\"relation\":\"association\",\"target_entity\":\"P < 0.01\",\"relation_description\":\"Processed fish products are associated with a statistically significant result (P < 0.01)\"},{\"source_entity\":\"food pattern of cooking oil and processed meat products\",\"relation\":\"association\",\"target_entity\":\"OP concentration in human milk\",\"relation_description\":\"The dietary pattern is strongly associated with OP concentration in human milk (P < 0.05)\"},{\"source_entity\":\"nursing mothers\",\"relation\":\"consumption advice\",\"target_entity\":\"foods\",\"relation_description\":\"Suggestions for foods to be consumed by nursing mothers to protect infants from NP/OP exposure\"}]}', name='extract_entities_relations'), type='function', index=0)]))], created=1745721387, model='deepseek-chat', object='chat.completion', service_tier=None, system_fingerprint='fp_8802369eaa_prod0425fp8', usage=CompletionUsage(completion_tokens=445, prompt_tokens=734, total_tokens=1179, completion_tokens_details=None, prompt_tokens_details=PromptTokensDetails(audio_tokens=None, cached_tokens=576), prompt_cache_hit_tokens=576, prompt_cache_miss_tokens=158))\n"
     ]
    },
    {
     "name": "stderr",
     "output_type": "stream",
     "text": [
      "Batches: 100%|██████████| 1/1 [00:00<00:00,  4.44it/s]\n"
     ]
    },
    {
     "name": "stdout",
     "output_type": "stream",
     "text": [
      "2025-04-26 21:38:13 - Response content: ChatCompletion(id='937241b6-bd78-41ff-ab92-f698a70d33be', choices=[Choice(finish_reason='tool_calls', index=0, logprobs=None, message=ChatCompletionMessage(content='', refusal=None, role='assistant', annotations=None, audio=None, function_call=None, tool_calls=[ChatCompletionMessageToolCall(id='call_0_5819920a-88e6-4ec3-ad69-2e0ecea3248b', function=Function(arguments='{\"entities\":[{\"entity_name\":\"hazard ratios (HRs)\",\"entity_type\":\"Statistical Measure\",\"entity_description\":\"Unadjusted and adjusted hazard ratios for breast cancer-specific and all-cause mortality\"},{\"entity_name\":\"breast cancer\",\"entity_type\":\"Disease\",\"entity_description\":\"A type of cancer affecting breast tissue\"},{\"entity_name\":\"statin users\",\"entity_type\":\"Population Group\",\"entity_description\":\"Individuals who use statins after breast cancer diagnosis\"},{\"entity_name\":\"time-dependent Cox regression models\",\"entity_type\":\"Statistical Method\",\"entity_description\":\"Models used to calculate hazard ratios\"},{\"entity_name\":\"sensitivity analyses\",\"entity_type\":\"Statistical Method\",\"entity_description\":\"Analyses conducted using multiple imputation methods, propensity score methods, and a case-control approach\"},{\"entity_name\":\"simvastatin\",\"entity_type\":\"Drug\",\"entity_description\":\"A type of statin with marked associations in the study\"}],\"relations\":[{\"source_entity\":\"hazard ratios (HRs)\",\"relation\":\"calculated using\",\"target_entity\":\"time-dependent Cox regression models\",\"relation_description\":\"HRs were calculated using time-dependent Cox regression models\"},{\"source_entity\":\"statin users\",\"relation\":\"associated with\",\"target_entity\":\"breast cancer\",\"relation_description\":\"Statin users after breast cancer diagnosis were studied for mortality outcomes\"},{\"source_entity\":\"statin users\",\"relation\":\"reduced mortality\",\"target_entity\":\"breast cancer\",\"relation_description\":\"Statin use after breast cancer diagnosis was associated with reduced mortality\"},{\"source_entity\":\"simvastatin\",\"relation\":\"more marked associations\",\"target_entity\":\"hazard ratios (HRs)\",\"relation_description\":\"Simvastatin showed more marked associations in the study\"}]}', name='extract_entities_relations'), type='function', index=0)]))], created=1745721387, model='deepseek-chat', object='chat.completion', service_tier=None, system_fingerprint='fp_8802369eaa_prod0425fp8', usage=CompletionUsage(completion_tokens=362, prompt_tokens=776, total_tokens=1138, completion_tokens_details=None, prompt_tokens_details=PromptTokensDetails(audio_tokens=None, cached_tokens=768), prompt_cache_hit_tokens=768, prompt_cache_miss_tokens=8))\n"
     ]
    },
    {
     "name": "stderr",
     "output_type": "stream",
     "text": [
      "Batches: 100%|██████████| 1/1 [00:00<00:00,  2.36it/s]\n"
     ]
    },
    {
     "name": "stdout",
     "output_type": "stream",
     "text": [
      "2025-04-26 21:38:30 - Response content: ChatCompletion(id='0308046c-115a-4c8e-98cc-8433bb070a5e', choices=[Choice(finish_reason='tool_calls', index=0, logprobs=None, message=ChatCompletionMessage(content='', refusal=None, role='assistant', annotations=None, audio=None, function_call=None, tool_calls=[ChatCompletionMessageToolCall(id='call_0_8841c2d2-5e1f-42b4-b9e9-4bc5fefdf4f7', function=Function(arguments='{\"entities\":[{\"entity_name\":\"79 (0.63-1.00)\",\"entity_type\":\"Statistical Value\",\"entity_description\":\"A statistical value representing a range of 0.63 to 1.00\"},{\"entity_name\":\"0.81 (0.70-0.95)\",\"entity_type\":\"Statistical Value\",\"entity_description\":\"A statistical value representing a range of 0.70 to 0.95\"},{\"entity_name\":\"large population-based breast cancer cohort\",\"entity_type\":\"Study Group\",\"entity_description\":\"A group studied in the research involving breast cancer patients\"},{\"entity_name\":\"statin users\",\"entity_type\":\"Study Group\",\"entity_description\":\"Individuals who use statins, studied in the research\"},{\"entity_name\":\"breast cancer diagnosis\",\"entity_type\":\"Medical Condition\",\"entity_description\":\"The diagnosis of breast cancer in patients\"}],\"relations\":[{\"source_entity\":\"statin users\",\"relation\":\"association\",\"target_entity\":\"reduced mortality\",\"relation_description\":\"Evidence of reduced mortality in statin users after breast cancer diagnosis\"},{\"source_entity\":\"associations\",\"relation\":\"attenuation\",\"target_entity\":\"sensitivity analyses\",\"relation_description\":\"Associations were attenuated in some sensitivity analyses\"}]}', name='extract_entities_relations'), type='function', index=0)]))], created=1745721387, model='deepseek-chat', object='chat.completion', service_tier=None, system_fingerprint='fp_8802369eaa_prod0425fp8', usage=CompletionUsage(completion_tokens=265, prompt_tokens=711, total_tokens=976, completion_tokens_details=None, prompt_tokens_details=PromptTokensDetails(audio_tokens=None, cached_tokens=576), prompt_cache_hit_tokens=576, prompt_cache_miss_tokens=135))\n"
     ]
    },
    {
     "name": "stderr",
     "output_type": "stream",
     "text": [
      "Batches: 100%|██████████| 1/1 [00:00<00:00,  3.31it/s]\n"
     ]
    },
    {
     "name": "stdout",
     "output_type": "stream",
     "text": [
      "2025-04-26 21:38:57 - Response content: ChatCompletion(id='f08e6455-5d55-498c-902a-ac0212d64762', choices=[Choice(finish_reason='tool_calls', index=0, logprobs=None, message=ChatCompletionMessage(content='', refusal=None, role='assistant', annotations=None, audio=None, function_call=None, tool_calls=[ChatCompletionMessageToolCall(id='call_0_79a79f25-43b9-4931-9cf5-da5e5e98a9ef', function=Function(arguments='{\"entities\":[{\"entity_name\":\"4-nonylphenol (NP)\",\"entity_type\":\"Chemical\",\"entity_description\":\"A chemical compound measured in human milk samples\"},{\"entity_name\":\"4-octylphenol (OP)\",\"entity_type\":\"Chemical\",\"entity_description\":\"A chemical compound measured in human milk samples\"},{\"entity_name\":\"human milk samples\",\"entity_type\":\"Biological Sample\",\"entity_description\":\"Samples collected for measuring NP and OP concentrations\"},{\"entity_name\":\"mothers\\' demographics\",\"entity_type\":\"Demographic Data\",\"entity_description\":\"Data related to the mothers\\' characteristics\"},{\"entity_name\":\"dietary habits\",\"entity_type\":\"Behavioral Data\",\"entity_description\":\"Information about the mothers\\' eating habits\"},{\"entity_name\":\"cooking oil\",\"entity_type\":\"Food\",\"entity_description\":\"A dietary item associated with higher OP concentrations\"},{\"entity_name\":\"fish oil capsules\",\"entity_type\":\"Supplement\",\"entity_description\":\"A dietary supplement associated with OP and NP concentrations\"},{\"entity_name\":\"age\",\"entity_type\":\"Demographic Data\",\"entity_description\":\"A factor adjusted for in the study\"},{\"entity_name\":\"body mass index (BMI)\",\"entity_type\":\"Health Metric\",\"entity_description\":\"A factor adjusted for in the study\"}],\"relations\":[{\"source_entity\":\"cooking oil\",\"relation\":\"consumption\",\"target_entity\":\"OP concentration\",\"relation_description\":\"Higher consumption of cooking oil is associated with higher OP concentrations\"},{\"source_entity\":\"fish oil capsules\",\"relation\":\"consumption\",\"target_entity\":\"OP concentration\",\"relation_description\":\"Consumption of fish oil capsules is associated with OP concentration\"},{\"source_entity\":\"fish oil capsules\",\"relation\":\"consumption\",\"target_entity\":\"NP concentration\",\"relation_description\":\"Consumption of fish oil capsules is associated with NP concentration\"},{\"source_entity\":\"age\",\"relation\":\"adjustment\",\"target_entity\":\"OP concentration\",\"relation_description\":\"Age was adjusted for in the analysis of OP concentration\"},{\"source_entity\":\"body mass index (BMI)\",\"relation\":\"adjustment\",\"target_entity\":\"OP concentration\",\"relation_description\":\"BMI was adjusted for in the analysis of OP concentration\"}]}', name='extract_entities_relations'), type='function', index=0)]))], created=1745721387, model='deepseek-chat', object='chat.completion', service_tier=None, system_fingerprint='fp_8802369eaa_prod0425fp8', usage=CompletionUsage(completion_tokens=449, prompt_tokens=808, total_tokens=1257, completion_tokens_details=None, prompt_tokens_details=PromptTokensDetails(audio_tokens=None, cached_tokens=576), prompt_cache_hit_tokens=576, prompt_cache_miss_tokens=232))\n"
     ]
    },
    {
     "name": "stderr",
     "output_type": "stream",
     "text": [
      "Batches: 100%|██████████| 1/1 [00:00<00:00,  2.98it/s]\n"
     ]
    },
    {
     "name": "stdout",
     "output_type": "stream",
     "text": [
      "2025-04-26 21:39:31 - Response content: ChatCompletion(id='f27b44da-4570-4664-8aed-ea1782a43fe5', choices=[Choice(finish_reason='tool_calls', index=0, logprobs=None, message=ChatCompletionMessage(content='', refusal=None, role='assistant', annotations=None, audio=None, function_call=None, tool_calls=[ChatCompletionMessageToolCall(id='call_0_5d16040e-5868-4463-803f-03d7fcb75795', function=Function(arguments='{\"entities\":[{\"entity_name\":\"Cox proportional hazards regression method\",\"entity_type\":\"Method\",\"entity_description\":\"Statistical method used to estimate mortality among statin users\"},{\"entity_name\":\"statin users\",\"entity_type\":\"Group\",\"entity_description\":\"Participants who used statins\"},{\"entity_name\":\"4,151 participants\",\"entity_type\":\"Group\",\"entity_description\":\"Total number of participants who used statins\"},{\"entity_name\":\"median follow-up of 3.25 years\",\"entity_type\":\"Time\",\"entity_description\":\"Median duration of follow-up after diagnosis\"},{\"entity_name\":\"6,011 participants\",\"entity_type\":\"Group\",\"entity_description\":\"Total number of participants who died during the study\"},{\"entity_name\":\"3,619 (60.2%)\",\"entity_type\":\"Group\",\"entity_description\":\"Number of deaths due to breast cancer\"},{\"entity_name\":\"breast cancer\",\"entity_type\":\"Disease\",\"entity_description\":\"Type of cancer causing deaths\"},{\"entity_name\":\"post-diagnostic statin use\",\"entity_type\":\"Treatment\",\"entity_description\":\"Statin use after diagnosis\"},{\"entity_name\":\"pre-diagnostic statin use\",\"entity_type\":\"Treatment\",\"entity_description\":\"Statin use before diagnosis\"},{\"entity_name\":\"HR 0.46, 95% CI 0.38–0.55\",\"entity_type\":\"Statistical Measure\",\"entity_description\":\"Hazard ratio for post-diagnostic statin use\"},{\"entity_name\":\"HR 0.54, 95% CI 0.44–0.67\",\"entity_type\":\"Statistical Measure\",\"entity_description\":\"Hazard ratio for pre-diagnostic statin use\"}],\"relations\":[{\"source_entity\":\"Cox proportional hazards regression method\",\"relation\":\"used to estimate\",\"target_entity\":\"mortality among statin users\",\"relation_description\":\"Method applied to estimate mortality\"},{\"source_entity\":\"statin users\",\"relation\":\"included\",\"target_entity\":\"4,151 participants\",\"relation_description\":\"Number of participants who used statins\"},{\"source_entity\":\"6,011 participants\",\"relation\":\"died during\",\"target_entity\":\"median follow-up of 3.25 years\",\"relation_description\":\"Deaths occurred during the follow-up period\"},{\"source_entity\":\"6,011 participants\",\"relation\":\"died due to\",\"target_entity\":\"breast cancer\",\"relation_description\":\"Cause of death for a subset of participants\"},{\"source_entity\":\"post-diagnostic statin use\",\"relation\":\"associated with\",\"target_entity\":\"lowered risk of breast cancer death\",\"relation_description\":\"Post-diagnostic statin use reduced risk\"},{\"source_entity\":\"pre-diagnostic statin use\",\"relation\":\"associated with\",\"target_entity\":\"lowered risk of breast cancer death\",\"relation_description\":\"Pre-diagnostic statin use reduced risk\"}]}', name='extract_entities_relations'), type='function', index=0)]))], created=1745721388, model='deepseek-chat', object='chat.completion', service_tier=None, system_fingerprint='fp_8802369eaa_prod0425fp8', usage=CompletionUsage(completion_tokens=586, prompt_tokens=804, total_tokens=1390, completion_tokens_details=None, prompt_tokens_details=PromptTokensDetails(audio_tokens=None, cached_tokens=768), prompt_cache_hit_tokens=768, prompt_cache_miss_tokens=36))\n"
     ]
    },
    {
     "name": "stderr",
     "output_type": "stream",
     "text": [
      "Batches: 100%|██████████| 1/1 [00:00<00:00,  4.06it/s]\n"
     ]
    },
    {
     "name": "stdout",
     "output_type": "stream",
     "text": [
      "2025-04-26 21:39:58 - Response content: ChatCompletion(id='5c24014f-8054-42d2-ad8a-6c3ab34155aa', choices=[Choice(finish_reason='tool_calls', index=0, logprobs=None, message=ChatCompletionMessage(content='', refusal=None, role='assistant', annotations=None, audio=None, function_call=None, tool_calls=[ChatCompletionMessageToolCall(id='call_0_963771d3-c7bc-4272-98fc-f7d5782b9f12', function=Function(arguments='{\"entities\":[{\"entity_name\":\"post-diagnostic statin use\",\"entity_type\":\"Medical Treatment\",\"entity_description\":\"Statin use after diagnosis, associated with risk decrease\"},{\"entity_name\":\"healthy adherer bias\",\"entity_type\":\"Bias\",\"entity_description\":\"Bias where healthier patients are more likely to adhere to treatment\"},{\"entity_name\":\"dying cancer patients\",\"entity_type\":\"Patient Group\",\"entity_description\":\"Cancer patients who are dying, less likely to continue statin use\"},{\"entity_name\":\"pre-diagnostic statin users\",\"entity_type\":\"Patient Group\",\"entity_description\":\"Patients using statins before diagnosis, showing dose- and time-dependent survival benefit\"},{\"entity_name\":\"survival benefit\",\"entity_type\":\"Outcome\",\"entity_description\":\"Benefit observed in survival rates among pre-diagnostic statin users\"},{\"entity_name\":\"clinical trial\",\"entity_type\":\"Research Method\",\"entity_description\":\"Proposed method to further evaluate statins\\' effect on survival in breast cancer patients\"},{\"entity_name\":\"breast cancer patients\",\"entity_type\":\"Patient Group\",\"entity_description\":\"Patients with breast cancer, potential subjects for clinical trial\"}],\"relations\":[{\"source_entity\":\"post-diagnostic statin use\",\"relation\":\"affected by\",\"target_entity\":\"healthy adherer bias\",\"relation_description\":\"The risk decrease by post-diagnostic statin use was likely affected by healthy adherer bias\"},{\"source_entity\":\"dying cancer patients\",\"relation\":\"discontinue\",\"target_entity\":\"post-diagnostic statin use\",\"relation_description\":\"The greater likelihood of dying cancer patients to discontinue statin use\"},{\"source_entity\":\"pre-diagnostic statin users\",\"relation\":\"shows\",\"target_entity\":\"survival benefit\",\"relation_description\":\"The dose- and time-dependence of the survival benefit among pre-diagnostic statin users\"},{\"source_entity\":\"clinical trial\",\"relation\":\"evaluate\",\"target_entity\":\"statins’ effect on survival in breast cancer patients\",\"relation_description\":\"Proposed clinical trial to test statins\\' effect on survival in breast cancer patients\"}]}', name='extract_entities_relations'), type='function', index=0)]))], created=1745721388, model='deepseek-chat', object='chat.completion', service_tier=None, system_fingerprint='fp_8802369eaa_prod0425fp8', usage=CompletionUsage(completion_tokens=444, prompt_tokens=742, total_tokens=1186, completion_tokens_details=None, prompt_tokens_details=PromptTokensDetails(audio_tokens=None, cached_tokens=704), prompt_cache_hit_tokens=704, prompt_cache_miss_tokens=38))\n"
     ]
    },
    {
     "name": "stderr",
     "output_type": "stream",
     "text": [
      "Batches: 100%|██████████| 1/1 [00:00<00:00,  4.42it/s]\n"
     ]
    }
   ],
   "source": [
    "from concurrent.futures import ThreadPoolExecutor\n",
    "from sentence_transformers import SentenceTransformer\n",
    "\n",
    "EMB = SentenceTransformer(\"sentence-transformers/all-MiniLM-L6-v2\")\n",
    "chunk_meta = {}          # cid -> {doc, start, end}\n",
    "all_extractions = {}     # cid -> extraction result\n",
    "chunk_emb_cache = {}     # cid -> embedding vector (np.ndarray)\n",
    "\n",
    "def process_chunk(item):\n",
    "    \"\"\"\n",
    "    Worker function for a single chunk: extract relations and embed.\n",
    "    \"\"\"\n",
    "    doc_id, idx, chunk, start, end = item\n",
    "    cid = f\"{doc_id}#{idx}\"\n",
    "    ext = extract_chunk(chunk)\n",
    "    vec = EMB.encode(chunk, normalize_embeddings=True, convert_to_numpy=True).astype(np.float32)\n",
    "    return cid, doc_id, start, end, ext, vec\n",
    "\n",
    "# === 2. Parallel Extraction & Embedding ===\n",
    "# Prepare task list\n",
    "tasks = []  # list of (doc_id, idx, chunk, start, end)\n",
    "for doc_id, text in docs.items():\n",
    "    for idx, (chunk, start, end) in enumerate(split_into_chunks(text)):\n",
    "        tasks.append((doc_id, idx, chunk, start, end))\n",
    "\n",
    "# Process with ThreadPoolExecutor\n",
    "n_workers = min(8, len(tasks))\n",
    "with ThreadPoolExecutor(max_workers=n_workers) as executor:\n",
    "    for cid, doc_id, start, end, ext, vec in executor.map(process_chunk, tasks):\n",
    "        chunk_meta[cid] = {\"doc\": doc_id, \"start\": start, \"end\": end}\n",
    "        all_extractions[cid] = ext\n",
    "        chunk_emb_cache[cid] = vec"
   ]
  },
  {
   "cell_type": "markdown",
   "metadata": {},
   "source": [
    "可视化知识图谱"
   ]
  },
  {
   "cell_type": "code",
   "execution_count": 27,
   "metadata": {},
   "outputs": [
    {
     "name": "stdout",
     "output_type": "stream",
     "text": [
      "Knowledge graph saved to knowledge_graph.html\n"
     ]
    }
   ],
   "source": [
    "from pyvis.network import Network\n",
    "\n",
    "net = Network(height=\"750px\", width=\"100%\", bgcolor=\"#ffffff\", font_color=\"black\")\n",
    "all_nodes = set()\n",
    "for cid, ie in all_extractions.items():\n",
    "    # add entities\n",
    "    for ent in ie.get(\"entities\", []):\n",
    "        all_nodes.add(ent[\"entity_name\"])\n",
    "    # add relation endpoints\n",
    "    for rel in ie.get(\"relations\", []):\n",
    "        all_nodes.add(rel[\"source_entity\"])\n",
    "        all_nodes.add(rel[\"target_entity\"])\n",
    "# add nodes to graph\n",
    "for node in all_nodes:\n",
    "    net.add_node(node)\n",
    "# add edges\n",
    "for cid, ie in all_extractions.items():\n",
    "    for rel in ie.get(\"relations\", []):\n",
    "        net.add_edge(\n",
    "            rel[\"source_entity\"],\n",
    "            rel[\"target_entity\"],\n",
    "            title=rel.get(\"relation_description\",\"\"),\n",
    "            label=rel.get(\"relation\",\"\")\n",
    "        )\n",
    "net.toggle_physics(True)\n",
    "net.show_buttons(['physics'])\n",
    "net.write_html(\"knowledge_graph.html\")\n",
    "print(\"Knowledge graph saved to knowledge_graph.html\")"
   ]
  },
  {
   "cell_type": "markdown",
   "metadata": {},
   "source": [
    "从 all_extractions 构建 concept2cid / attr2aid / triples"
   ]
  },
  {
   "cell_type": "code",
   "execution_count": 30,
   "metadata": {},
   "outputs": [
    {
     "name": "stdout",
     "output_type": "stream",
     "text": [
      "2025-04-26 21:57:27 - Built mapping: 68 concepts, 25 relations, 36 triples\n"
     ]
    }
   ],
   "source": [
    "from typing import Dict, Any, List, Tuple\n",
    "concept2cid: Dict[str,int] = {}\n",
    "attr2aid: Dict[str,int] = {}\n",
    "triples: List[Tuple[int,int,int,str]] = []\n",
    "\n",
    "for cid, ie in all_extractions.items():\n",
    "    # register concept IDs\n",
    "    for ent in ie.get(\"entities\", []):\n",
    "        name = ent[\"entity_name\"].lower()\n",
    "        concept2cid.setdefault(name, len(concept2cid))\n",
    "    for rel in ie.get(\"relations\", []):\n",
    "        src = rel[\"source_entity\"].lower()\n",
    "        trg = rel[\"target_entity\"].lower()\n",
    "        concept2cid.setdefault(src, len(concept2cid))\n",
    "        concept2cid.setdefault(trg, len(concept2cid))\n",
    "    # build relation triples\n",
    "    for rel in ie.get(\"relations\", []):\n",
    "        src = rel[\"source_entity\"].lower()\n",
    "        trg = rel[\"target_entity\"].lower()\n",
    "        pred = rel[\"relation\"].lower()\n",
    "        attr2aid.setdefault(pred, len(attr2aid))\n",
    "        aid = attr2aid[pred]\n",
    "        cid_h, cid_t = concept2cid[src], concept2cid[trg]\n",
    "        triples.append((cid_h, aid, cid_t, cid))\n",
    "\n",
    "logging.info(f\"Built mapping: {len(concept2cid)} concepts, {len(attr2aid)} relations, {len(triples)} triples\")"
   ]
  },
  {
   "cell_type": "markdown",
   "metadata": {},
   "source": [
    "MiniLM 嵌入 + Q8/Q4"
   ]
  },
  {
   "cell_type": "code",
   "execution_count": 31,
   "metadata": {},
   "outputs": [
    {
     "name": "stdout",
     "output_type": "stream",
     "text": [
      "2025-04-26 21:57:32 - Use pytorch device_name: mps\n",
      "2025-04-26 21:57:32 - Load pretrained SentenceTransformer: sentence-transformers/all-MiniLM-L6-v2\n"
     ]
    },
    {
     "name": "stderr",
     "output_type": "stream",
     "text": [
      "Batches: 100%|██████████| 1/1 [00:00<00:00,  4.51it/s]\n",
      "Batches: 100%|██████████| 1/1 [00:00<00:00, 12.02it/s]\n",
      "Batches: 100%|██████████| 1/1 [00:00<00:00, 11.66it/s]\n",
      "Batches: 100%|██████████| 1/1 [00:00<00:00,  6.46it/s]\n",
      "Batches: 100%|██████████| 1/1 [00:00<00:00,  8.00it/s]\n",
      "Batches: 100%|██████████| 1/1 [00:00<00:00, 12.69it/s]\n",
      "Batches: 100%|██████████| 1/1 [00:00<00:00, 14.69it/s]\n",
      "Batches: 100%|██████████| 1/1 [00:00<00:00,  7.22it/s]\n",
      "Batches: 100%|██████████| 1/1 [00:00<00:00, 14.08it/s]\n",
      "Batches: 100%|██████████| 1/1 [00:00<00:00, 15.26it/s]\n",
      "Batches: 100%|██████████| 1/1 [00:00<00:00, 13.68it/s]\n",
      "Batches: 100%|██████████| 1/1 [00:00<00:00, 13.76it/s]\n",
      "Batches: 100%|██████████| 1/1 [00:00<00:00,  6.17it/s]\n",
      "Batches: 100%|██████████| 1/1 [00:00<00:00,  6.94it/s]\n",
      "Batches: 100%|██████████| 1/1 [00:00<00:00, 11.52it/s]\n",
      "Batches: 100%|██████████| 1/1 [00:00<00:00,  7.31it/s]\n",
      "Batches: 100%|██████████| 1/1 [00:00<00:00,  7.60it/s]\n",
      "Batches: 100%|██████████| 1/1 [00:00<00:00, 16.19it/s]\n",
      "Batches: 100%|██████████| 1/1 [00:00<00:00,  1.21it/s]\n",
      "Batches: 100%|██████████| 1/1 [00:00<00:00, 13.83it/s]\n",
      "Batches: 100%|██████████| 1/1 [00:00<00:00, 13.38it/s]\n",
      "Batches: 100%|██████████| 1/1 [00:00<00:00, 12.68it/s]\n",
      "Batches: 100%|██████████| 1/1 [00:00<00:00, 18.05it/s]\n",
      "Batches: 100%|██████████| 1/1 [00:00<00:00, 13.99it/s]\n",
      "Batches: 100%|██████████| 1/1 [00:00<00:00, 19.11it/s]\n",
      "Batches: 100%|██████████| 1/1 [00:00<00:00, 16.57it/s]\n",
      "Batches: 100%|██████████| 1/1 [00:00<00:00, 18.52it/s]\n",
      "Batches: 100%|██████████| 1/1 [00:00<00:00, 16.90it/s]\n",
      "Batches: 100%|██████████| 1/1 [00:00<00:00, 16.99it/s]\n",
      "Batches: 100%|██████████| 1/1 [00:00<00:00, 13.67it/s]\n",
      "Batches: 100%|██████████| 1/1 [00:00<00:00, 14.58it/s]\n",
      "Batches: 100%|██████████| 1/1 [00:00<00:00, 13.22it/s]\n",
      "Batches: 100%|██████████| 1/1 [00:00<00:00, 14.82it/s]\n",
      "Batches: 100%|██████████| 1/1 [00:00<00:00, 17.27it/s]\n",
      "Batches: 100%|██████████| 1/1 [00:00<00:00, 15.80it/s]\n",
      "Batches: 100%|██████████| 1/1 [00:00<00:00, 15.30it/s]\n",
      "Batches: 100%|██████████| 1/1 [00:00<00:00, 14.77it/s]\n",
      "Batches: 100%|██████████| 1/1 [00:00<00:00, 16.10it/s]\n",
      "Batches: 100%|██████████| 1/1 [00:00<00:00, 17.83it/s]\n",
      "Batches: 100%|██████████| 1/1 [00:00<00:00, 18.85it/s]\n",
      "Batches: 100%|██████████| 1/1 [00:00<00:00, 18.75it/s]\n",
      "Batches: 100%|██████████| 1/1 [00:00<00:00,  4.10it/s]\n",
      "Batches: 100%|██████████| 1/1 [00:01<00:00,  1.25s/it]\n",
      "Batches: 100%|██████████| 1/1 [00:00<00:00, 16.17it/s]\n",
      "Batches: 100%|██████████| 1/1 [00:00<00:00, 19.34it/s]\n",
      "Batches: 100%|██████████| 1/1 [00:00<00:00, 18.32it/s]\n",
      "Batches: 100%|██████████| 1/1 [00:00<00:00, 19.44it/s]\n",
      "Batches: 100%|██████████| 1/1 [00:00<00:00, 18.38it/s]\n",
      "Batches: 100%|██████████| 1/1 [00:00<00:00, 16.16it/s]\n",
      "Batches: 100%|██████████| 1/1 [00:00<00:00, 19.29it/s]\n",
      "Batches: 100%|██████████| 1/1 [00:00<00:00, 18.69it/s]\n",
      "Batches: 100%|██████████| 1/1 [00:00<00:00, 19.00it/s]\n",
      "Batches: 100%|██████████| 1/1 [00:00<00:00, 19.09it/s]\n",
      "Batches: 100%|██████████| 1/1 [00:00<00:00, 18.49it/s]\n",
      "Batches: 100%|██████████| 1/1 [00:00<00:00, 11.00it/s]\n",
      "Batches: 100%|██████████| 1/1 [00:00<00:00, 18.74it/s]\n",
      "Batches: 100%|██████████| 1/1 [00:00<00:00, 18.32it/s]\n",
      "Batches: 100%|██████████| 1/1 [00:00<00:00, 17.56it/s]\n",
      "Batches: 100%|██████████| 1/1 [00:00<00:00, 18.64it/s]\n",
      "Batches: 100%|██████████| 1/1 [00:00<00:00, 18.47it/s]\n",
      "Batches: 100%|██████████| 1/1 [00:00<00:00, 18.58it/s]\n",
      "Batches: 100%|██████████| 1/1 [00:00<00:00, 16.90it/s]\n",
      "Batches: 100%|██████████| 1/1 [00:00<00:00, 17.93it/s]\n",
      "Batches: 100%|██████████| 1/1 [00:00<00:00, 19.21it/s]\n",
      "Batches: 100%|██████████| 1/1 [00:00<00:00, 19.21it/s]\n",
      "Batches: 100%|██████████| 1/1 [00:00<00:00, 19.03it/s]\n",
      "Batches: 100%|██████████| 1/1 [00:00<00:00, 18.54it/s]\n",
      "Batches: 100%|██████████| 1/1 [00:00<00:00, 17.37it/s]\n",
      "Batches: 100%|██████████| 1/1 [00:00<00:00,  7.64it/s]\n",
      "Batches: 100%|██████████| 1/1 [00:00<00:00, 15.96it/s]\n",
      "Batches: 100%|██████████| 1/1 [00:00<00:00, 16.87it/s]\n",
      "Batches: 100%|██████████| 1/1 [00:00<00:00, 18.70it/s]\n",
      "Batches: 100%|██████████| 1/1 [00:00<00:00,  4.63it/s]\n",
      "Batches: 100%|██████████| 1/1 [00:00<00:00, 14.52it/s]\n",
      "Batches: 100%|██████████| 1/1 [00:00<00:00, 15.99it/s]\n",
      "Batches: 100%|██████████| 1/1 [00:00<00:00,  7.70it/s]\n",
      "Batches: 100%|██████████| 1/1 [00:00<00:00, 18.39it/s]\n",
      "Batches: 100%|██████████| 1/1 [00:00<00:00, 18.40it/s]\n",
      "Batches: 100%|██████████| 1/1 [00:00<00:00, 18.03it/s]\n",
      "Batches: 100%|██████████| 1/1 [00:00<00:00, 16.64it/s]\n",
      "Batches: 100%|██████████| 1/1 [00:00<00:00, 17.88it/s]\n",
      "Batches: 100%|██████████| 1/1 [00:00<00:00, 17.28it/s]\n",
      "Batches: 100%|██████████| 1/1 [00:00<00:00, 17.68it/s]\n",
      "Batches: 100%|██████████| 1/1 [00:00<00:00, 14.86it/s]\n",
      "Batches: 100%|██████████| 1/1 [00:00<00:00, 16.12it/s]\n",
      "Batches: 100%|██████████| 1/1 [00:00<00:00, 16.56it/s]\n",
      "Batches: 100%|██████████| 1/1 [00:00<00:00, 17.36it/s]\n",
      "Batches: 100%|██████████| 1/1 [00:00<00:00, 16.55it/s]\n",
      "Batches: 100%|██████████| 1/1 [00:00<00:00, 18.66it/s]\n",
      "Batches: 100%|██████████| 1/1 [00:00<00:00, 18.27it/s]\n",
      "Batches: 100%|██████████| 1/1 [00:00<00:00, 19.14it/s]\n",
      "Batches: 100%|██████████| 1/1 [00:00<00:00, 18.92it/s]\n",
      "Batches: 100%|██████████| 1/1 [00:00<00:00, 18.51it/s]\n"
     ]
    }
   ],
   "source": [
    "import torch\n",
    "from sentence_transformers import SentenceTransformer\n",
    "\n",
    "EMB = SentenceTransformer(\"sentence-transformers/all-MiniLM-L6-v2\")\n",
    "D   = EMB.get_sentence_embedding_dimension()\n",
    "\n",
    "def quant_tensor(vec: torch.Tensor, bits: int) -> torch.Tensor:\n",
    "    # vec: 1-D float Tensor (已归一化)\n",
    "    vmax = vec.abs().max().item()\n",
    "    scale = (2**(bits-1) - 1) / max(1e-6, vmax)\n",
    "    return (vec * scale).round().to(torch.int8)\n",
    "\n",
    "# 4.1 Q8 量化概念向量\n",
    "concept_vecs_t = torch.zeros((len(concept2cid), D), dtype=torch.int8)\n",
    "for name, cid in concept2cid.items():\n",
    "    text = f\"{name} [Entity]\"  # name + type\n",
    "    vec_t = EMB.encode(text, normalize_embeddings=True, convert_to_tensor=True)\n",
    "    q = quant_tensor(vec_t.cpu(), bits=8)\n",
    "    concept_vecs_t[cid] = q\n",
    "\n",
    "# 4.2 Q4 量化关系向量\n",
    "attr_vecs_t = torch.zeros((len(attr2aid), D), dtype=torch.int8)\n",
    "for pred, aid in attr2aid.items():\n",
    "    vec_t = EMB.encode(pred, normalize_embeddings=True, convert_to_tensor=True)\n",
    "    q = quant_tensor(vec_t.cpu(), bits=4)\n",
    "    attr_vecs_t[aid] = q"
   ]
  },
  {
   "cell_type": "markdown",
   "metadata": {},
   "source": [
    "Super-Community 检测 & 聚簇"
   ]
  },
  {
   "cell_type": "code",
   "execution_count": 34,
   "metadata": {},
   "outputs": [],
   "source": [
    "import igraph as ig\n",
    "from sklearn.cluster import KMeans, MiniBatchKMeans\n",
    "\n",
    "# 5.1 社区检测（Leiden）\n",
    "G = ig.Graph(n=len(concept2cid), edges=[(h,t) for h,_,t,_ in triples], directed=False)\n",
    "leiden = G.community_leiden(objective_function=\"modularity\")\n",
    "\n",
    "# 修改社区映射的创建方式\n",
    "cid2scid = {}\n",
    "for comm_id, community in enumerate(leiden):\n",
    "    for vertex in community:\n",
    "        cid2scid[vertex] = comm_id\n",
    "\n",
    "# 5.2 概念簇 & 属性簇 聚类\n",
    "# 先转 numpy 用于 sklearn\n",
    "concept_np = concept_vecs_t.numpy().astype(np.float32)\n",
    "attr_np = attr_vecs_t.numpy().astype(np.float32)\n",
    "\n",
    "cid_centroids = {}\n",
    "aid_centroids = {}\n",
    "\n",
    "for scid in set(cid2scid.values()):\n",
    "    members = [cid for cid, sc in cid2scid.items() if sc == scid]\n",
    "    if not members:\n",
    "        continue\n",
    "    \n",
    "    # 概念簇\n",
    "    k = min(32, len(members))\n",
    "    km = KMeans(n_clusters=k, random_state=42, n_init=\"auto\").fit(concept_np[members])\n",
    "    for idx, cid in enumerate(members):\n",
    "        cid_centroids[cid] = km.cluster_centers_[km.labels_[idx]]\n",
    "    \n",
    "    # 属性簇（针对每个概念）\n",
    "    for cid in members:\n",
    "        rel_aids = [aid for h,aid,t,_ in triples if h==cid or t==cid]\n",
    "        if not rel_aids:\n",
    "            continue\n",
    "        rel_vecs = attr_np[rel_aids]\n",
    "        k2 = min(8, len(rel_aids))\n",
    "        mb = MiniBatchKMeans(n_clusters=k2, random_state=42).fit(rel_vecs)\n",
    "        for j, aid in enumerate(rel_aids):\n",
    "            aid_centroids[aid] = mb.cluster_centers_[mb.labels_[j]]"
   ]
  },
  {
   "cell_type": "markdown",
   "metadata": {},
   "source": [
    "Leaf-Bucket (倒排 + IndexFlatIP)"
   ]
  },
  {
   "cell_type": "code",
   "execution_count": 35,
   "metadata": {},
   "outputs": [
    {
     "name": "stdout",
     "output_type": "stream",
     "text": [
      "Built 25 leaf buckets.\n"
     ]
    }
   ],
   "source": [
    "import json\n",
    "import numpy as np\n",
    "import faiss\n",
    "import pathlib\n",
    "import shutil\n",
    "from collections import defaultdict\n",
    "\n",
    "# 1. 把所有 chunk embedding 写成单个 .npy 并输出 chunk_ids 列表\n",
    "chunk_ids   = list(chunk_emb_cache.keys())\n",
    "chunk_vecs  = np.stack([chunk_emb_cache[cid] for cid in chunk_ids], axis=0).astype(np.float32)\n",
    "\n",
    "np.save(\"chunk_vecs.npy\", chunk_vecs)\n",
    "with open(\"chunk_ids.json\", \"w\", encoding=\"utf-8\") as f:\n",
    "    json.dump(chunk_ids, f, ensure_ascii=False, indent=2)\n",
    "\n",
    "# 2. 建立 cid -> row_idx 映射，加载 memmap\n",
    "chunk_idx_map = { cid: i for i, cid in enumerate(chunk_ids) }\n",
    "chunk_vecs_mm  = np.load(\"chunk_vecs.npy\", mmap_mode=\"r\")  # 只在需要时加载页面\n",
    "\n",
    "# 3. 为每个 aid 构建 Leaf-Bucket 的 integer pointer 列表\n",
    "aid_chunks = defaultdict(list)\n",
    "for _, aid, _, cid in triples:\n",
    "    # triples 中最后一位就是 chunk_id\n",
    "    if cid in chunk_idx_map:\n",
    "        aid_chunks[aid].append(chunk_idx_map[cid])\n",
    "\n",
    "# 4. 持久化每个 leaf：只存 indices + IVFFlatIP（或 FlatIP）\n",
    "leaf_dir = pathlib.Path(\"leaf_buckets\")\n",
    "shutil.rmtree(leaf_dir, ignore_errors=True)\n",
    "leaf_dir.mkdir(parents=True)\n",
    "\n",
    "for aid, idxs in aid_chunks.items():\n",
    "    uniq = sorted(set(idxs))\n",
    "    if not uniq:\n",
    "        continue\n",
    "    \n",
    "    # 4.1 切出对应 chunk vectors\n",
    "    vecs = chunk_vecs_mm[uniq]       # shape = (len(uniq), D)\n",
    "    d_dim = vecs.shape[1]\n",
    "\n",
    "    # 4.2 用 FlatIP （零训练、100% 精确）\n",
    "    index = faiss.IndexFlatIP(d_dim)\n",
    "    index.add(vecs)                  # 加载进内存仅这一小批\n",
    "\n",
    "    # 4.3 保存索引 & 指针列表\n",
    "    faiss.write_index(index, str(leaf_dir / f\"aid_{aid}.flatip\"))\n",
    "    with open(leaf_dir / f\"aid_{aid}.idx.json\", \"w\", encoding=\"utf-8\") as f:\n",
    "        json.dump(uniq, f, ensure_ascii=False)\n",
    "\n",
    "print(f\"Built {len(list(leaf_dir.glob('*.flatip')))} leaf buckets.\")"
   ]
  },
  {
   "cell_type": "markdown",
   "metadata": {},
   "source": []
  }
 ],
 "metadata": {
  "kernelspec": {
   "display_name": ".venv",
   "language": "python",
   "name": "python3"
  },
  "language_info": {
   "codemirror_mode": {
    "name": "ipython",
    "version": 3
   },
   "file_extension": ".py",
   "mimetype": "text/x-python",
   "name": "python",
   "nbconvert_exporter": "python",
   "pygments_lexer": "ipython3",
   "version": "3.9.6"
  }
 },
 "nbformat": 4,
 "nbformat_minor": 2
}
